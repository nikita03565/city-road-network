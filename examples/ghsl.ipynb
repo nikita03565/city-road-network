{
 "cells": [
  {
   "cell_type": "code",
   "execution_count": 1,
   "metadata": {},
   "outputs": [],
   "source": [
    "from city_road_network.downloaders.ghsl import get_tile, get_tile_ids, download_tile\n",
    "\n",
    "from city_road_network.utils.map import draw_population\n",
    "from city_road_network.processing.ghsl import main\n",
    "from city_road_network.downloaders.osm import get_relation_poly"
   ]
  },
  {
   "cell_type": "code",
   "execution_count": 2,
   "metadata": {},
   "outputs": [
    {
     "name": "stdout",
     "output_type": "stream",
     "text": [
      "['R3_C20', 'R3_C21']\n",
      "{'left': 9404, 'top': 998, 'right': 10499, 'bottom': 1582}\n",
      "[2023-05-04 18:50:41,218][INFO] Saved dataframe to /home/nikita/Projects/city_road_network/data/saint_petersburg/population.csv\n"
     ]
    }
   ],
   "source": [
    "kad_poly = get_relation_poly(relation_id=\"1861646\")\n",
    "spb_poly = get_relation_poly(relation_id=\"337422\")\n",
    "boundaries = kad_poly.union(spb_poly)\n",
    "CITY_NAME = \"saint_petersburg\"\n",
    "pop_df = main(boundaries, CITY_NAME)"
   ]
  },
  {
   "cell_type": "code",
   "execution_count": 3,
   "metadata": {},
   "outputs": [
    {
     "name": "stdout",
     "output_type": "stream",
     "text": [
      "[2023-05-04 18:52:36,659][INFO] Saved file /home/nikita/Projects/city_road_network/htmls/saint_petersburg/population.html\n"
     ]
    }
   ],
   "source": [
    "map = draw_population(pop_df, save=True, filename=\"population.html\", city_name=CITY_NAME)"
   ]
  }
 ],
 "metadata": {
  "kernelspec": {
   "display_name": "osm-to-graph-9sKvQbya-py3.11",
   "language": "python",
   "name": "python3"
  },
  "language_info": {
   "codemirror_mode": {
    "name": "ipython",
    "version": 3
   },
   "file_extension": ".py",
   "mimetype": "text/x-python",
   "name": "python",
   "nbconvert_exporter": "python",
   "pygments_lexer": "ipython3",
   "version": "3.11.3"
  },
  "orig_nbformat": 4
 },
 "nbformat": 4,
 "nbformat_minor": 2
}
