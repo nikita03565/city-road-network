{
 "cells": [
  {
   "cell_type": "code",
   "execution_count": null,
   "metadata": {},
   "outputs": [],
   "source": [
    "from city_road_network.downloaders.osm import get_relation_poly\n",
    "from city_road_network.writers.sumo import prepare_all_files, run_sumo"
   ]
  },
  {
   "cell_type": "code",
   "execution_count": null,
   "metadata": {},
   "outputs": [],
   "source": [
    "city_name = \"chelyabinsk\"\n",
    "chel_rel = \"4442556\"\n",
    "boundaries = get_relation_poly(relation_id=chel_rel)"
   ]
  },
  {
   "cell_type": "code",
   "execution_count": null,
   "metadata": {},
   "outputs": [],
   "source": [
    "# Assuming zones, poi and other data has already been collected and OD-matrix calculated\n",
    "prepare_all_files(boundaries, city_name)"
   ]
  },
  {
   "cell_type": "code",
   "execution_count": null,
   "metadata": {},
   "outputs": [],
   "source": [
    "run_sumo(city_name)"
   ]
  }
 ],
 "metadata": {
  "kernelspec": {
   "display_name": "osm-to-graph-9sKvQbya-py3.11",
   "language": "python",
   "name": "python3"
  },
  "language_info": {
   "codemirror_mode": {
    "name": "ipython",
    "version": 3
   },
   "file_extension": ".py",
   "mimetype": "text/x-python",
   "name": "python",
   "nbconvert_exporter": "python",
   "pygments_lexer": "ipython3",
   "version": "3.11.3"
  },
  "orig_nbformat": 4
 },
 "nbformat": 4,
 "nbformat_minor": 2
}
