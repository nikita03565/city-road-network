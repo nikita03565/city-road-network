{
 "cells": [
  {
   "cell_type": "code",
   "execution_count": 1,
   "metadata": {},
   "outputs": [],
   "source": [
    "from city_road_network.downloaders.osm import get_relation_poly\n",
    "from city_road_network.writers.sumo import prepare_all_files, run_sumo"
   ]
  },
  {
   "cell_type": "code",
   "execution_count": 2,
   "metadata": {},
   "outputs": [],
   "source": [
    "city_name = \"chelyabinsk\"\n",
    "chel_rel = \"4442556\"\n",
    "boundaries = get_relation_poly(relation_id=chel_rel)"
   ]
  },
  {
   "cell_type": "code",
   "execution_count": 3,
   "metadata": {},
   "outputs": [
    {
     "name": "stdout",
     "output_type": "stream",
     "text": [
      "[2023-05-26 18:22:46,890][INFO] Running netconvert --osm /home/nikita/Projects/city_road_network/data/chelyabinsk/sumo_files/out.osm -o /home/nikita/Projects/city_road_network/data/chelyabinsk/sumo_files/net.net.xml\n"
     ]
    },
    {
     "name": "stderr",
     "output_type": "stream",
     "text": [
      "Warning: Value of key 'maxspeed' is not numeric ('[40, 60]') in edge '164699417'.\n",
      "Warning: Ambiguity in turnarounds computation at junction '1117015000'.\n",
      "Warning: Ambiguity in turnarounds computation at junction '1228345248'.\n",
      "Warning: Ambiguity in turnarounds computation at junction '1323384845'.\n",
      "Warning: Ambiguity in turnarounds computation at junction '1425987045'.\n",
      "Warning: Ambiguity in turnarounds computation at junction '2114149468'.\n",
      "Warning: Found sharp turn with radius 8.27 at the end of edge '-131035629#0'.\n",
      "Warning: Found sharp turn with radius 5.66 at the end of edge '-131224453#0'.\n",
      "Warning: Found angle of 103.68 degrees at edge '-168674491', segment 0.\n",
      "Warning: Found sharp turn with radius 8.99 at the start of edge '-189526258'.\n",
      "Warning: Found sharp turn with radius 8.55 at the end of edge '-285536619'.\n",
      "Warning: Found angle of 99.43 degrees at edge '-449698064', segment 0.\n",
      "Warning: Found angle of 99.06 degrees at edge '-543228674', segment 12.\n",
      "Warning: Found sharp turn with radius 8.78 at the start of edge '-692117444#0'.\n",
      "Warning: Found sharp turn with radius 8.77 at the end of edge '-692117444#1'.\n",
      "Warning: Found sharp turn with radius 7.43 at the start of edge '-93086326#0'.\n",
      "Warning: Found angle of 120.17 degrees at edge '-97888265#3', segment 3.\n",
      "Warning: Found sharp turn with radius 8.41 at the end of edge '1024805965'.\n",
      "Warning: Found sharp turn with radius 8.27 at the start of edge '131035629#0'.\n",
      "Warning: Found sharp turn with radius 5.66 at the start of edge '131224453#0'.\n",
      "Warning: Found angle of 103.68 degrees at edge '168674491', segment 4.\n",
      "Warning: Shape for junction '1422314052' has distance 34.96 to its given position.\n",
      "Warning: Shape for junction '1736670327' has distance 26.61 to its given position.\n",
      "Warning: Shape for junction '1759995000' has distance 22.90 to its given position.\n",
      "Warning: Shape for junction '1973978587' has distance 44.03 to its given position.\n",
      "Warning: Shape for junction '2072958606' has distance 22.71 to its given position.\n",
      "Warning: Converting invalid rail_crossing to priority junction '10001062454'.\n",
      "Warning: Converting invalid rail_crossing to priority junction '10171685771'.\n",
      "Warning: Converting invalid rail_crossing to priority junction '10171685772'.\n",
      "Warning: Converting invalid rail_crossing to priority junction '10171685773'.\n",
      "Warning: Converting invalid rail_crossing to priority junction '10171685774'.\n",
      "Warning: Speed of straight connection '155536926_0->86929976#0_0' reduced by 5.88 due to turning radius of 21.16 (length=12.62, angle=50.52).\n",
      "Warning: Speed of straight connection '-86929976#0_0->-155536926_0' reduced by 5.27 due to turning radius of 23.60 (length=14.14, angle=50.52).\n",
      "Warning: Speed of straight connection '86711545_1->647378453#3_1' reduced by 7.69 due to turning radius of 14.65 (length=17.56, angle=87.65).\n",
      "Warning: Speed of straight connection '86711545_2->647378453#3_2' reduced by 8.71 due to turning radius of 11.50 (length=13.57, angle=87.65).\n",
      "Warning: Speed of straight connection '-142301754_0->87073923#2_1' reduced by 5.57 due to turning radius of 22.39 (length=18.93, angle=65.24).\n",
      "Warning: Intersecting left turns at junction '10175993920' from lane '1112297249#2_2' and lane '1112297245#0_1' (increase junction radius to avoid this).\n",
      "Warning: Intersecting left turns at junction '1182823121' from lane '102423023#1_0' and lane '-102423023#2_0' (increase junction radius to avoid this).\n",
      "Warning: Intersecting left turns at junction '3640877473' from lane '359361521#1_2' and lane '1112037772_2' (increase junction radius to avoid this).\n",
      "Warning: Intersecting left turns at junction '9202823867' from lane '996666465#3_3' and lane '1104411491_2' (increase junction radius to avoid this).\n"
     ]
    },
    {
     "name": "stdout",
     "output_type": "stream",
     "text": [
      "Success.\n",
      "[2023-05-26 18:22:51,504][INFO] Running polyconvert -v --shapefile-prefixes /home/nikita/Projects/city_road_network/data/chelyabinsk/sumo_files/taz_shapefile/tazs -n /home/nikita/Projects/city_road_network/data/chelyabinsk/sumo_files/net.net.xml -o /home/nikita/Projects/city_road_network/data/chelyabinsk/sumo_files/tazs.taz.xml\n",
      "Parsing network projection from '/home/nikita/Projects/city_road_network/data/chelyabinsk/sumo_files/net.net.xml' ... done (5ms).\n",
      "Parsing from shape-file '/home/nikita/Projects/city_road_network/data/chelyabinsk/sumo_files/taz_shapefile/tazs' ... \n",
      "Available fields: name poi_count poi_attrac pop households vehicles production centroid\n",
      "done.\n",
      "done.\n",
      "Success.\n",
      "[2023-05-26 18:22:51,561][INFO] Running python /usr/share/sumo/tools/edgesInDistricts.py -n /home/nikita/Projects/city_road_network/data/chelyabinsk/sumo_files/net.net.xml -t /home/nikita/Projects/city_road_network/data/chelyabinsk/sumo_files/tazs.taz.xml -o /home/nikita/Projects/city_road_network/data/chelyabinsk/sumo_files/districts.taz.xml\n"
     ]
    },
    {
     "name": "stderr",
     "output_type": "stream",
     "text": [
      "Warning: 10 total messages of type: Ambiguity in turnarounds computation at junction '%'.\n",
      "Warning: 35 total messages of type: Converting invalid rail_crossing to priority junction '%'.\n",
      "Warning: 8 total messages of type: Found angle of % degrees at edge '%', segment %.\n",
      "Warning: 16 total messages of type: Found sharp turn with radius % at the end of edge '%'.\n",
      "Warning: 16 total messages of type: Found sharp turn with radius % at the start of edge '%'.\n",
      "Warning: 8 total messages of type: Shape for junction '%' has distance % to its given position.\n",
      "Warning: 102 total messages of type: Speed of % connection '%' reduced by % due to turning radius of % (length=%, angle=%).\n",
      "/home/nikita/Projects/city_road_network/city_road_network/writers/sumo.py:98: UserWarning: Column names longer than 10 characters will be truncated when saved to ESRI Shapefile.\n",
      "  zones_gdf.to_file(shapefile_name)\n"
     ]
    },
    {
     "name": "stdout",
     "output_type": "stream",
     "text": [
      "[2023-05-26 18:23:22,146][INFO] Running od2trips -n /home/nikita/Projects/city_road_network/data/chelyabinsk/sumo_files/districts.taz.xml -d /home/nikita/Projects/city_road_network/data/chelyabinsk/sumo_files/od_file.od -o /home/nikita/Projects/city_road_network/data/chelyabinsk/sumo_files/out_trips.xml\n",
      "Success.time 3597.85\n",
      "[2023-05-26 18:23:22,278][INFO] Running duarouter -n /home/nikita/Projects/city_road_network/data/chelyabinsk/sumo_files/net.net.xml --route-files /home/nikita/Projects/city_road_network/data/chelyabinsk/sumo_files/out_trips.xml -o /home/nikita/Projects/city_road_network/data/chelyabinsk/sumo_files/od_route_file.odtrips.rou.xml --ignore-errors true\n"
     ]
    },
    {
     "name": "stderr",
     "output_type": "stream",
     "text": [
      "Warning: No connection between edge '-82679853' and edge '305950704#1' found.\n",
      "Warning: Mandatory edge '305950704#1' not reachable by vehicle '611'.\n",
      "Warning: The vehicle '611' has no valid route.\n",
      "Warning: No connection between edge '392584370' and edge '338790854#1' found.\n",
      "Warning: Mandatory edge '338790854#1' not reachable by vehicle '485'.\n",
      "Warning: The vehicle '485' has no valid route.\n",
      "Warning: No connection between edge '1116562659#2' and edge '141550165#0' found.\n",
      "Warning: Mandatory edge '141550165#0' not reachable by vehicle '486'.\n",
      "Warning: The vehicle '486' has no valid route.\n"
     ]
    },
    {
     "name": "stdout",
     "output_type": "stream",
     "text": [
      "Reading up to time step: 802.83\r"
     ]
    },
    {
     "name": "stderr",
     "output_type": "stream",
     "text": [
      "Warning: No connection between edge '164476955#2' and edge '37112657#2' found.\n",
      "Warning: Mandatory edge '37112657#2' not reachable by vehicle '701'.\n",
      "Warning: The vehicle '701' has no valid route.\n",
      "Warning: No connection between edge '91363597' and edge '141550168#0' found.\n",
      "Warning: Mandatory edge '141550168#0' not reachable by vehicle '716'.\n",
      "Warning: The vehicle '716' has no valid route.\n"
     ]
    },
    {
     "name": "stdout",
     "output_type": "stream",
     "text": [
      "Reading up to time step: 1202.83\r"
     ]
    },
    {
     "name": "stderr",
     "output_type": "stream",
     "text": [
      "Warning: No connection between edge '-232261455#1' and edge '-115699173#2' found.\n",
      "Warning: Mandatory edge '-115699173#2' not reachable by vehicle '203'.\n",
      "Warning: The vehicle '203' has no valid route.\n"
     ]
    },
    {
     "name": "stdout",
     "output_type": "stream",
     "text": [
      "Reading up to time step: 1602.83\r"
     ]
    },
    {
     "name": "stderr",
     "output_type": "stream",
     "text": [
      "Warning: No connection between edge '81250351#2' and edge '-232261454#0' found.\n",
      "Warning: Mandatory edge '-232261454#0' not reachable by vehicle '153'.\n",
      "Warning: The vehicle '153' has no valid route.\n",
      "Warning: No connection between edge '-457887972#1' and edge '-37112657#0' found.\n",
      "Warning: Mandatory edge '-37112657#0' not reachable by vehicle '470'.\n",
      "Warning: The vehicle '470' has no valid route.\n",
      "Warning: No connection between edge '32869570' and edge '-187165607' found.\n",
      "Warning: Mandatory edge '-187165607' not reachable by vehicle '144'.\n",
      "Warning: The vehicle '144' has no valid route.\n"
     ]
    },
    {
     "name": "stdout",
     "output_type": "stream",
     "text": [
      "Reading up to time step: 2402.83\r"
     ]
    },
    {
     "name": "stderr",
     "output_type": "stream",
     "text": [
      "Warning: No connection between edge '-60272351#1' and edge '726066432#1' found.\n",
      "Warning: Mandatory edge '726066432#1' not reachable by vehicle '475'.\n",
      "Warning: The vehicle '475' has no valid route.\n"
     ]
    },
    {
     "name": "stdout",
     "output_type": "stream",
     "text": [
      "Reading up to time step: 2802.83\r"
     ]
    },
    {
     "name": "stderr",
     "output_type": "stream",
     "text": [
      "Warning: No connection between edge '-130519627#0' and edge '-319598099#1' found.\n",
      "Warning: Mandatory edge '-319598099#1' not reachable by vehicle '497'.\n",
      "Warning: The vehicle '497' has no valid route.\n"
     ]
    },
    {
     "name": "stdout",
     "output_type": "stream",
     "text": [
      "Success.up to time step: 3602.83\n"
     ]
    }
   ],
   "source": [
    "prepare_all_files(boundaries, city_name)"
   ]
  },
  {
   "cell_type": "code",
   "execution_count": 4,
   "metadata": {},
   "outputs": [
    {
     "name": "stdout",
     "output_type": "stream",
     "text": [
      "[2023-05-26 18:23:33,968][INFO] Running sumo-gui -c data/chelyabinsk/sumo_files/map.sumocfg\n"
     ]
    }
   ],
   "source": [
    "run_sumo(city_name)"
   ]
  }
 ],
 "metadata": {
  "kernelspec": {
   "display_name": "osm-to-graph-9sKvQbya-py3.11",
   "language": "python",
   "name": "python3"
  },
  "language_info": {
   "codemirror_mode": {
    "name": "ipython",
    "version": 3
   },
   "file_extension": ".py",
   "mimetype": "text/x-python",
   "name": "python",
   "nbconvert_exporter": "python",
   "pygments_lexer": "ipython3",
   "version": "3.11.3"
  },
  "orig_nbformat": 4
 },
 "nbformat": 4,
 "nbformat_minor": 2
}
