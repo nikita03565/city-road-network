{
 "cells": [
  {
   "cell_type": "code",
   "execution_count": null,
   "metadata": {},
   "outputs": [],
   "source": [
    "import os\n",
    "from city_road_network.downloaders.osm import get_relation_poly, get_osm_data, get_admin_boundaries\n",
    "from city_road_network.utils.map import draw_boundaries, draw_zones\n",
    "from city_road_network.writers.csv import save_osm_data\n",
    "\n",
    "from city_road_network.utils.map import draw_population, draw_zones, draw_graph\n",
    "from city_road_network.utils.io import read_graph\n",
    "from city_road_network.utils.utils import get_data_subdir\n",
    "from city_road_network.processing.ghsl import process_population\n",
    "from city_road_network.processing.zones import process_zones\n",
    "from city_road_network.processing.graph import process_edges\n",
    "from city_road_network.downloaders.osm import get_relation_poly"
   ]
  },
  {
   "cell_type": "code",
   "execution_count": null,
   "metadata": {},
   "outputs": [],
   "source": [
    "CITY_NAME = \"paris\"\n",
    "data_dir = get_data_subdir(city_name=CITY_NAME)\n",
    "\n",
    "\n",
    "# moscow_rel = \"2555133\"\n",
    "# chel_rel = \"4442556\"\n",
    "berlin_rel = \"62422\"\n",
    "london_rel = \"175342\"\n",
    "paris_rel = \"71525\"\n",
    "boundaries = get_relation_poly(relation_id=paris_rel)\n",
    "# kad_poly = get_relation_poly(relation_id=\"1861646\")\n",
    "# spb_poly = get_relation_poly(relation_id=\"337422\")\n",
    "# boundaries = kad_poly.union(spb_poly)"
   ]
  },
  {
   "cell_type": "code",
   "execution_count": null,
   "metadata": {},
   "outputs": [],
   "source": [
    "draw_boundaries(boundaries)"
   ]
  },
  {
   "cell_type": "code",
   "execution_count": null,
   "metadata": {},
   "outputs": [],
   "source": [
    "get_admin_boundaries(boundaries, admin_level=10)"
   ]
  },
  {
   "cell_type": "code",
   "execution_count": null,
   "metadata": {},
   "outputs": [],
   "source": [
    "data = get_osm_data(boundaries, admin_level=10)"
   ]
  },
  {
   "cell_type": "code",
   "execution_count": null,
   "metadata": {},
   "outputs": [],
   "source": [
    "len(data.graph.nodes), len(data.graph.edges)"
   ]
  },
  {
   "cell_type": "code",
   "execution_count": null,
   "metadata": {},
   "outputs": [],
   "source": [
    "save_osm_data(data, city_name=CITY_NAME)"
   ]
  },
  {
   "cell_type": "code",
   "execution_count": null,
   "metadata": {},
   "outputs": [],
   "source": [
    "pop_df = process_population(boundaries, CITY_NAME)"
   ]
  },
  {
   "cell_type": "code",
   "execution_count": null,
   "metadata": {},
   "outputs": [],
   "source": [
    "process_edges(city_name=CITY_NAME)"
   ]
  },
  {
   "cell_type": "code",
   "execution_count": null,
   "metadata": {},
   "outputs": [],
   "source": [
    "nodes_df, zones_df = process_zones(city_name=CITY_NAME)"
   ]
  },
  {
   "cell_type": "code",
   "execution_count": null,
   "metadata": {},
   "outputs": [],
   "source": [
    "zones_map = draw_zones(zones_df, save=True, city_name=CITY_NAME, filename=\"zones.html\")"
   ]
  },
  {
   "cell_type": "code",
   "execution_count": null,
   "metadata": {},
   "outputs": [],
   "source": [
    "map = draw_population(pop_df, save=True, filename=\"population.html\", city_name=CITY_NAME)"
   ]
  },
  {
   "cell_type": "code",
   "execution_count": null,
   "metadata": {},
   "outputs": [],
   "source": [
    "graph = read_graph(\n",
    "    os.path.join(data_dir, \"nodelist_upd.csv\"),\n",
    "    os.path.join(data_dir, \"edgelist_upd.csv\"),\n",
    ")"
   ]
  },
  {
   "cell_type": "code",
   "execution_count": null,
   "metadata": {},
   "outputs": [],
   "source": [
    "map = draw_graph(graph, save=True, filename=\"map.html\", city_name=CITY_NAME)"
   ]
  },
  {
   "cell_type": "code",
   "execution_count": null,
   "metadata": {},
   "outputs": [],
   "source": [
    "import pandas as pd\n",
    "\n",
    "df = pd.read_csv(os.path.join(data_dir, \"nodelist_upd.csv\"))\n",
    "df.head()"
   ]
  }
 ],
 "metadata": {
  "kernelspec": {
   "display_name": "osm-to-graph-9sKvQbya-py3.11",
   "language": "python",
   "name": "python3"
  },
  "language_info": {
   "codemirror_mode": {
    "name": "ipython",
    "version": 3
   },
   "file_extension": ".py",
   "mimetype": "text/x-python",
   "name": "python",
   "nbconvert_exporter": "python",
   "pygments_lexer": "ipython3",
   "version": "3.11.3"
  },
  "orig_nbformat": 4
 },
 "nbformat": 4,
 "nbformat_minor": 2
}
