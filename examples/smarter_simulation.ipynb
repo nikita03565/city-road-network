{
 "cells": [
  {
   "cell_type": "code",
   "execution_count": 8,
   "metadata": {},
   "outputs": [],
   "source": [
    "import numpy as np\n",
    "import pandas as pd\n",
    "import os\n",
    "import geopandas as gpd\n",
    "from shapely.wkt import loads\n",
    "from city_road_network.utils.utils import get_data_subdir, get_html_subdir\n",
    "import time\n",
    "import pickle\n",
    "from city_road_network.utils.map import draw_trips_map\n",
    "from city_road_network.utils.io import read_graph\n",
    "from city_road_network.algo.smarter_sim import run_smarter_simulation\n",
    "from city_road_network.config import default_crs"
   ]
  },
  {
   "cell_type": "code",
   "execution_count": 9,
   "metadata": {},
   "outputs": [],
   "source": [
    "city_name = \"moscow\"\n",
    "data_dir = get_data_subdir(city_name)\n",
    "html_dir = get_html_subdir(city_name)"
   ]
  },
  {
   "cell_type": "code",
   "execution_count": 10,
   "metadata": {},
   "outputs": [
    {
     "name": "stderr",
     "output_type": "stream",
     "text": [
      "/home/nikita/Projects/city_road_network/city_road_network/utils/io.py:17: DtypeWarning: Columns (12,13,14) have mixed types. Specify dtype option on import or set low_memory=False.\n",
      "  edgelist = pd.read_csv(\n"
     ]
    }
   ],
   "source": [
    "G = read_graph(\n",
    "    os.path.join(data_dir, \"nodelist_upd.csv\"),\n",
    "    os.path.join(data_dir, \"edgelist_upd.csv\"),\n",
    ")"
   ]
  },
  {
   "cell_type": "code",
   "execution_count": 11,
   "metadata": {},
   "outputs": [],
   "source": [
    "trip_mat = np.load(os.path.join(data_dir, \"trip_mat.npy\")) // 2\n",
    "n = trip_mat.shape[0]"
   ]
  },
  {
   "cell_type": "code",
   "execution_count": 12,
   "metadata": {},
   "outputs": [],
   "source": [
    "zones_df = pd.read_csv(os.path.join(data_dir, \"zones_upd.csv\"), index_col=0)\n",
    "zones_df[\"geometry\"] = zones_df[\"geometry\"].apply(loads)\n",
    "zones_gdf = gpd.GeoDataFrame(zones_df, crs=default_crs)"
   ]
  },
  {
   "cell_type": "code",
   "execution_count": 13,
   "metadata": {},
   "outputs": [
    {
     "name": "stdout",
     "output_type": "stream",
     "text": [
      "[2023-05-07 20:46:14,189][INFO] Processed chunk...\n",
      "[2023-05-07 20:52:02,044][INFO] Processed chunk...\n",
      "[2023-05-07 20:56:34,644][INFO] Processed chunk...\n",
      "[2023-05-07 21:00:30,448][INFO] Processed chunk...\n",
      "[2023-05-07 21:04:11,897][INFO] Processed chunk...\n",
      "[2023-05-07 21:07:36,311][INFO] Processed chunk...\n",
      "[2023-05-07 21:10:48,560][INFO] Processed chunk...\n",
      "[2023-05-07 21:14:06,292][INFO] Processed chunk...\n",
      "[2023-05-07 21:17:13,947][INFO] Processed chunk...\n",
      "[2023-05-07 21:20:15,322][INFO] Processed chunk...\n",
      "[2023-05-07 21:23:04,737][INFO] Processed chunk...\n",
      "[2023-05-07 21:25:39,636][INFO] Processed chunk...\n",
      "[2023-05-07 21:28:07,129][INFO] Processed chunk...\n",
      "[2023-05-07 21:30:23,206][INFO] Processed chunk...\n",
      "[2023-05-07 21:32:29,368][INFO] Processed chunk...\n",
      "[2023-05-07 21:34:27,598][INFO] Processed chunk...\n",
      "[2023-05-07 21:36:18,367][INFO] Processed chunk...\n",
      "[2023-05-07 21:38:01,784][INFO] Processed chunk...\n",
      "[2023-05-07 21:39:25,676][INFO] Processed chunk...\n",
      "[2023-05-07 21:40:34,649][INFO] Processed chunk...\n",
      "[2023-05-07 21:40:38,021][INFO] Processed chunk...\n",
      "finished in 3816.4487614631653\n"
     ]
    }
   ],
   "source": [
    "all_paths, new_graph = run_smarter_simulation(G, trip_mat, \"flow_time (s)\")\n",
    "for i in range(len(all_paths)):\n",
    "    for j in range(len(all_paths)):\n",
    "        assert len(all_paths[i][j]) == trip_mat[i, j]"
   ]
  },
  {
   "cell_type": "code",
   "execution_count": 14,
   "metadata": {},
   "outputs": [],
   "source": [
    "ts = int(time.time())\n",
    "map = draw_trips_map(new_graph)\n",
    "filename = f\"smarter_paths_by_time_{ts}\"\n",
    "map.save(os.path.join(html_dir, f\"{filename}.html\"))\n",
    "with open(os.path.join(data_dir, f\"{filename}.pkl\"), \"wb\") as f:\n",
    "    pickle.dump(all_paths, f)"
   ]
  }
 ],
 "metadata": {
  "kernelspec": {
   "display_name": "osm-to-graph-9sKvQbya-py3.10",
   "language": "python",
   "name": "python3"
  },
  "language_info": {
   "codemirror_mode": {
    "name": "ipython",
    "version": 3
   },
   "file_extension": ".py",
   "mimetype": "text/x-python",
   "name": "python",
   "nbconvert_exporter": "python",
   "pygments_lexer": "ipython3",
   "version": "3.11.3"
  },
  "orig_nbformat": 4
 },
 "nbformat": 4,
 "nbformat_minor": 2
}
