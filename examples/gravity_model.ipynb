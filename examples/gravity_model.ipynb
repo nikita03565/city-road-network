{
 "cells": [
  {
   "cell_type": "code",
   "execution_count": null,
   "metadata": {},
   "outputs": [],
   "source": [
    "import numpy as np\n",
    "import pandas as pd\n",
    "import os\n",
    "import geopandas as gpd\n",
    "from shapely.wkt import loads\n",
    "from city_road_network.utils.utils import get_data_subdir\n",
    "from city_road_network.algo.gravity_model import run_gravity_model, get_attr_error, get_prod_error\n",
    "from city_road_network.config import default_crs"
   ]
  },
  {
   "cell_type": "code",
   "execution_count": null,
   "metadata": {},
   "outputs": [],
   "source": [
    "city_name = \"moscow\"\n",
    "data_dir = get_data_subdir(city_name)"
   ]
  },
  {
   "cell_type": "code",
   "execution_count": null,
   "metadata": {},
   "outputs": [],
   "source": [
    "df_zones = pd.read_csv(os.path.join(data_dir, \"zones_upd.csv\"), index_col=0)\n",
    "df_zones[\"geometry\"] = df_zones[\"geometry\"].apply(loads)\n",
    "df_zones[\"centroid\"] = df_zones[\"centroid\"].apply(loads)\n",
    "\n",
    "print(len(df_zones.loc[df_zones[\"production\"] == 0]))\n",
    "print(len(df_zones.loc[df_zones[\"poi_attraction\"] == 0]))\n",
    "\n",
    "df_zones.loc[df_zones[\"production\"] == 0, \"production\"] = 1\n",
    "df_zones.loc[df_zones[\"poi_attraction\"] == 0, \"poi_attraction\"] = 1"
   ]
  },
  {
   "cell_type": "code",
   "execution_count": null,
   "metadata": {},
   "outputs": [],
   "source": [
    "zones_gdf = gpd.GeoDataFrame(df_zones, crs=default_crs)\n",
    "zones_gdf"
   ]
  },
  {
   "cell_type": "code",
   "execution_count": null,
   "metadata": {},
   "outputs": [],
   "source": [
    "zones_gdf[zones_gdf[\"poi_attraction\"] == 1]"
   ]
  },
  {
   "cell_type": "code",
   "execution_count": null,
   "metadata": {},
   "outputs": [],
   "source": [
    "prod_array = np.array(zones_gdf[\"production\"])\n",
    "attr_array = np.array(zones_gdf[\"poi_attraction\"])"
   ]
  },
  {
   "cell_type": "code",
   "execution_count": null,
   "metadata": {},
   "outputs": [],
   "source": [
    "prod_array.sum()"
   ]
  },
  {
   "cell_type": "code",
   "execution_count": null,
   "metadata": {},
   "outputs": [],
   "source": [
    "trip_mat = run_gravity_model(zones_gdf)"
   ]
  },
  {
   "cell_type": "code",
   "execution_count": null,
   "metadata": {},
   "outputs": [],
   "source": [
    "prod_error = get_prod_error(trip_mat, prod_array)\n",
    "attr_error = get_attr_error(trip_mat, attr_array)\n",
    "print(prod_error, attr_error)"
   ]
  },
  {
   "cell_type": "code",
   "execution_count": null,
   "metadata": {},
   "outputs": [],
   "source": [
    "np.save(os.path.join(data_dir, \"trip_mat\"), trip_mat)"
   ]
  }
 ],
 "metadata": {
  "kernelspec": {
   "display_name": "osm-to-graph-9sKvQbya-py3.10",
   "language": "python",
   "name": "python3"
  },
  "language_info": {
   "codemirror_mode": {
    "name": "ipython",
    "version": 3
   },
   "file_extension": ".py",
   "mimetype": "text/x-python",
   "name": "python",
   "nbconvert_exporter": "python",
   "pygments_lexer": "ipython3",
   "version": "3.11.3"
  },
  "orig_nbformat": 4
 },
 "nbformat": 4,
 "nbformat_minor": 2
}
