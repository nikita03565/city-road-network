{
 "cells": [
  {
   "cell_type": "code",
   "execution_count": 11,
   "metadata": {},
   "outputs": [],
   "source": [
    "import numpy as np\n",
    "import pandas as pd\n",
    "import os\n",
    "import geopandas as gpd\n",
    "from shapely.wkt import loads\n",
    "from city_road_network.utils.utils import get_data_subdir\n",
    "from city_road_network.algo.gravity_model import run_gravity_model, get_attr_error, get_prod_error\n",
    "from city_road_network.config import default_crs"
   ]
  },
  {
   "cell_type": "code",
   "execution_count": 12,
   "metadata": {},
   "outputs": [],
   "source": [
    "city_name = \"moscow\"\n",
    "data_dir = get_data_subdir(city_name)"
   ]
  },
  {
   "cell_type": "code",
   "execution_count": 13,
   "metadata": {},
   "outputs": [
    {
     "name": "stdout",
     "output_type": "stream",
     "text": [
      "1\n",
      "1\n"
     ]
    }
   ],
   "source": [
    "df_zones = pd.read_csv(os.path.join(data_dir, \"zones_upd.csv\"), index_col=0)\n",
    "df_zones[\"geometry\"] = df_zones[\"geometry\"].apply(loads)\n",
    "df_zones[\"centroid\"] = df_zones[\"centroid\"].apply(loads)\n",
    "\n",
    "print(len(df_zones.loc[df_zones[\"production\"] == 0]))\n",
    "print(len(df_zones.loc[df_zones[\"poi_attraction\"] == 0]))\n",
    "\n",
    "df_zones.loc[df_zones[\"production\"] == 0, \"production\"] = 1\n",
    "df_zones.loc[df_zones[\"poi_attraction\"] == 0, \"poi_attraction\"] = 1"
   ]
  },
  {
   "cell_type": "code",
   "execution_count": 14,
   "metadata": {},
   "outputs": [
    {
     "data": {
      "text/html": [
       "<div>\n",
       "<style scoped>\n",
       "    .dataframe tbody tr th:only-of-type {\n",
       "        vertical-align: middle;\n",
       "    }\n",
       "\n",
       "    .dataframe tbody tr th {\n",
       "        vertical-align: top;\n",
       "    }\n",
       "\n",
       "    .dataframe thead th {\n",
       "        text-align: right;\n",
       "    }\n",
       "</style>\n",
       "<table border=\"1\" class=\"dataframe\">\n",
       "  <thead>\n",
       "    <tr style=\"text-align: right;\">\n",
       "      <th></th>\n",
       "      <th>name</th>\n",
       "      <th>geometry</th>\n",
       "      <th>poi_count</th>\n",
       "      <th>poi_attraction</th>\n",
       "      <th>pop</th>\n",
       "      <th>households</th>\n",
       "      <th>vehicles</th>\n",
       "      <th>production</th>\n",
       "      <th>centroid</th>\n",
       "    </tr>\n",
       "  </thead>\n",
       "  <tbody>\n",
       "    <tr>\n",
       "      <th>0</th>\n",
       "      <td>район Кунцево</td>\n",
       "      <td>POLYGON ((36.91270 55.74751, 36.90939 55.74836...</td>\n",
       "      <td>0</td>\n",
       "      <td>1.000000</td>\n",
       "      <td>0.000000</td>\n",
       "      <td>0.000000</td>\n",
       "      <td>0.000000</td>\n",
       "      <td>1.000000</td>\n",
       "      <td>POINT (37.011244754896026 55.73195412741748)</td>\n",
       "    </tr>\n",
       "    <tr>\n",
       "      <th>1</th>\n",
       "      <td>район Крылатское</td>\n",
       "      <td>POLYGON ((37.36539 55.77181, 37.37506 55.76732...</td>\n",
       "      <td>244</td>\n",
       "      <td>4199.958303</td>\n",
       "      <td>85674.682041</td>\n",
       "      <td>35697.784184</td>\n",
       "      <td>28558.227347</td>\n",
       "      <td>6425.601153</td>\n",
       "      <td>POINT (37.42366416645674 55.76322141006385)</td>\n",
       "    </tr>\n",
       "    <tr>\n",
       "      <th>2</th>\n",
       "      <td>Мещанский район</td>\n",
       "      <td>POLYGON ((37.62091 55.75899, 37.62159 55.75910...</td>\n",
       "      <td>856</td>\n",
       "      <td>14288.999330</td>\n",
       "      <td>63717.706840</td>\n",
       "      <td>26549.044517</td>\n",
       "      <td>21239.235613</td>\n",
       "      <td>4778.828013</td>\n",
       "      <td>POINT (37.628778583004916 55.780012408073404)</td>\n",
       "    </tr>\n",
       "    <tr>\n",
       "      <th>3</th>\n",
       "      <td>район Сокольники</td>\n",
       "      <td>POLYGON ((37.69532 55.81171, 37.69510 55.81173...</td>\n",
       "      <td>398</td>\n",
       "      <td>7739.715655</td>\n",
       "      <td>72162.528133</td>\n",
       "      <td>30067.720055</td>\n",
       "      <td>24054.176044</td>\n",
       "      <td>5412.189610</td>\n",
       "      <td>POINT (37.677578248842835 55.79987699140851)</td>\n",
       "    </tr>\n",
       "    <tr>\n",
       "      <th>4</th>\n",
       "      <td>район Хорошёво-Мнёвники</td>\n",
       "      <td>POLYGON ((37.50251 55.79060, 37.50191 55.79019...</td>\n",
       "      <td>384</td>\n",
       "      <td>8145.095417</td>\n",
       "      <td>181964.255450</td>\n",
       "      <td>75818.439771</td>\n",
       "      <td>60654.751817</td>\n",
       "      <td>13647.319159</td>\n",
       "      <td>POINT (37.464191650603 55.772902124215626)</td>\n",
       "    </tr>\n",
       "    <tr>\n",
       "      <th>...</th>\n",
       "      <td>...</td>\n",
       "      <td>...</td>\n",
       "      <td>...</td>\n",
       "      <td>...</td>\n",
       "      <td>...</td>\n",
       "      <td>...</td>\n",
       "      <td>...</td>\n",
       "      <td>...</td>\n",
       "      <td>...</td>\n",
       "    </tr>\n",
       "    <tr>\n",
       "      <th>113</th>\n",
       "      <td>район Метрогородок</td>\n",
       "      <td>POLYGON ((37.67021 55.83874, 37.67126 55.83846...</td>\n",
       "      <td>95</td>\n",
       "      <td>1796.400408</td>\n",
       "      <td>168597.744825</td>\n",
       "      <td>70249.060344</td>\n",
       "      <td>56199.248275</td>\n",
       "      <td>12644.830862</td>\n",
       "      <td>POINT (37.73849677001702 55.8428508731295)</td>\n",
       "    </tr>\n",
       "    <tr>\n",
       "      <th>114</th>\n",
       "      <td>район Гольяново</td>\n",
       "      <td>POLYGON ((37.75085 55.80217, 37.75223 55.80242...</td>\n",
       "      <td>423</td>\n",
       "      <td>7960.803384</td>\n",
       "      <td>168150.365708</td>\n",
       "      <td>70062.652378</td>\n",
       "      <td>56050.121903</td>\n",
       "      <td>12611.277428</td>\n",
       "      <td>POINT (37.7961997185952 55.82428756797183)</td>\n",
       "    </tr>\n",
       "    <tr>\n",
       "      <th>115</th>\n",
       "      <td>район Измайлово</td>\n",
       "      <td>POLYGON ((37.74535 55.77005, 37.74804 55.77005...</td>\n",
       "      <td>476</td>\n",
       "      <td>9711.893288</td>\n",
       "      <td>66939.281775</td>\n",
       "      <td>27891.367406</td>\n",
       "      <td>22313.093925</td>\n",
       "      <td>5020.446133</td>\n",
       "      <td>POINT (37.77275147910152 55.783786725930554)</td>\n",
       "    </tr>\n",
       "    <tr>\n",
       "      <th>116</th>\n",
       "      <td>район Ивановское</td>\n",
       "      <td>POLYGON ((37.83848 55.78838, 37.84088 55.78879...</td>\n",
       "      <td>253</td>\n",
       "      <td>5428.326173</td>\n",
       "      <td>137163.695820</td>\n",
       "      <td>57151.539925</td>\n",
       "      <td>45721.231940</td>\n",
       "      <td>10287.277186</td>\n",
       "      <td>POINT (37.8240270935332 55.771337213436695)</td>\n",
       "    </tr>\n",
       "    <tr>\n",
       "      <th>117</th>\n",
       "      <td>Басманный район</td>\n",
       "      <td>POLYGON ((37.66590 55.75305, 37.66579 55.75303...</td>\n",
       "      <td>1760</td>\n",
       "      <td>30378.544489</td>\n",
       "      <td>112796.704164</td>\n",
       "      <td>46998.626735</td>\n",
       "      <td>37598.901388</td>\n",
       "      <td>8459.752812</td>\n",
       "      <td>POINT (37.67084545279071 55.76669218687558)</td>\n",
       "    </tr>\n",
       "  </tbody>\n",
       "</table>\n",
       "<p>118 rows × 9 columns</p>\n",
       "</div>"
      ],
      "text/plain": [
       "                        name  \\\n",
       "0              район Кунцево   \n",
       "1           район Крылатское   \n",
       "2            Мещанский район   \n",
       "3           район Сокольники   \n",
       "4    район Хорошёво-Мнёвники   \n",
       "..                       ...   \n",
       "113       район Метрогородок   \n",
       "114          район Гольяново   \n",
       "115          район Измайлово   \n",
       "116         район Ивановское   \n",
       "117          Басманный район   \n",
       "\n",
       "                                              geometry  poi_count  \\\n",
       "0    POLYGON ((36.91270 55.74751, 36.90939 55.74836...          0   \n",
       "1    POLYGON ((37.36539 55.77181, 37.37506 55.76732...        244   \n",
       "2    POLYGON ((37.62091 55.75899, 37.62159 55.75910...        856   \n",
       "3    POLYGON ((37.69532 55.81171, 37.69510 55.81173...        398   \n",
       "4    POLYGON ((37.50251 55.79060, 37.50191 55.79019...        384   \n",
       "..                                                 ...        ...   \n",
       "113  POLYGON ((37.67021 55.83874, 37.67126 55.83846...         95   \n",
       "114  POLYGON ((37.75085 55.80217, 37.75223 55.80242...        423   \n",
       "115  POLYGON ((37.74535 55.77005, 37.74804 55.77005...        476   \n",
       "116  POLYGON ((37.83848 55.78838, 37.84088 55.78879...        253   \n",
       "117  POLYGON ((37.66590 55.75305, 37.66579 55.75303...       1760   \n",
       "\n",
       "     poi_attraction            pop    households      vehicles    production  \\\n",
       "0          1.000000       0.000000      0.000000      0.000000      1.000000   \n",
       "1       4199.958303   85674.682041  35697.784184  28558.227347   6425.601153   \n",
       "2      14288.999330   63717.706840  26549.044517  21239.235613   4778.828013   \n",
       "3       7739.715655   72162.528133  30067.720055  24054.176044   5412.189610   \n",
       "4       8145.095417  181964.255450  75818.439771  60654.751817  13647.319159   \n",
       "..              ...            ...           ...           ...           ...   \n",
       "113     1796.400408  168597.744825  70249.060344  56199.248275  12644.830862   \n",
       "114     7960.803384  168150.365708  70062.652378  56050.121903  12611.277428   \n",
       "115     9711.893288   66939.281775  27891.367406  22313.093925   5020.446133   \n",
       "116     5428.326173  137163.695820  57151.539925  45721.231940  10287.277186   \n",
       "117    30378.544489  112796.704164  46998.626735  37598.901388   8459.752812   \n",
       "\n",
       "                                          centroid  \n",
       "0     POINT (37.011244754896026 55.73195412741748)  \n",
       "1      POINT (37.42366416645674 55.76322141006385)  \n",
       "2    POINT (37.628778583004916 55.780012408073404)  \n",
       "3     POINT (37.677578248842835 55.79987699140851)  \n",
       "4       POINT (37.464191650603 55.772902124215626)  \n",
       "..                                             ...  \n",
       "113     POINT (37.73849677001702 55.8428508731295)  \n",
       "114     POINT (37.7961997185952 55.82428756797183)  \n",
       "115   POINT (37.77275147910152 55.783786725930554)  \n",
       "116    POINT (37.8240270935332 55.771337213436695)  \n",
       "117    POINT (37.67084545279071 55.76669218687558)  \n",
       "\n",
       "[118 rows x 9 columns]"
      ]
     },
     "execution_count": 14,
     "metadata": {},
     "output_type": "execute_result"
    }
   ],
   "source": [
    "zones_gdf = gpd.GeoDataFrame(df_zones, crs=default_crs)\n",
    "zones_gdf"
   ]
  },
  {
   "cell_type": "code",
   "execution_count": 15,
   "metadata": {},
   "outputs": [
    {
     "data": {
      "text/html": [
       "<div>\n",
       "<style scoped>\n",
       "    .dataframe tbody tr th:only-of-type {\n",
       "        vertical-align: middle;\n",
       "    }\n",
       "\n",
       "    .dataframe tbody tr th {\n",
       "        vertical-align: top;\n",
       "    }\n",
       "\n",
       "    .dataframe thead th {\n",
       "        text-align: right;\n",
       "    }\n",
       "</style>\n",
       "<table border=\"1\" class=\"dataframe\">\n",
       "  <thead>\n",
       "    <tr style=\"text-align: right;\">\n",
       "      <th></th>\n",
       "      <th>name</th>\n",
       "      <th>geometry</th>\n",
       "      <th>poi_count</th>\n",
       "      <th>poi_attraction</th>\n",
       "      <th>pop</th>\n",
       "      <th>households</th>\n",
       "      <th>vehicles</th>\n",
       "      <th>production</th>\n",
       "      <th>centroid</th>\n",
       "    </tr>\n",
       "  </thead>\n",
       "  <tbody>\n",
       "    <tr>\n",
       "      <th>0</th>\n",
       "      <td>район Кунцево</td>\n",
       "      <td>POLYGON ((36.91270 55.74751, 36.90939 55.74836...</td>\n",
       "      <td>0</td>\n",
       "      <td>1.0</td>\n",
       "      <td>0.0</td>\n",
       "      <td>0.0</td>\n",
       "      <td>0.0</td>\n",
       "      <td>1.0</td>\n",
       "      <td>POINT (37.011244754896026 55.73195412741748)</td>\n",
       "    </tr>\n",
       "  </tbody>\n",
       "</table>\n",
       "</div>"
      ],
      "text/plain": [
       "            name                                           geometry  \\\n",
       "0  район Кунцево  POLYGON ((36.91270 55.74751, 36.90939 55.74836...   \n",
       "\n",
       "   poi_count  poi_attraction  pop  households  vehicles  production  \\\n",
       "0          0             1.0  0.0         0.0       0.0         1.0   \n",
       "\n",
       "                                       centroid  \n",
       "0  POINT (37.011244754896026 55.73195412741748)  "
      ]
     },
     "execution_count": 15,
     "metadata": {},
     "output_type": "execute_result"
    }
   ],
   "source": [
    "zones_gdf[zones_gdf[\"poi_attraction\"] == 1]"
   ]
  },
  {
   "cell_type": "code",
   "execution_count": 16,
   "metadata": {},
   "outputs": [],
   "source": [
    "prod_array = np.array(zones_gdf[\"production\"])\n",
    "attr_array = np.array(zones_gdf[\"poi_attraction\"])"
   ]
  },
  {
   "cell_type": "code",
   "execution_count": 17,
   "metadata": {},
   "outputs": [
    {
     "data": {
      "text/plain": [
       "879826.6605792224"
      ]
     },
     "execution_count": 17,
     "metadata": {},
     "output_type": "execute_result"
    }
   ],
   "source": [
    "prod_array.sum()"
   ]
  },
  {
   "cell_type": "code",
   "execution_count": 18,
   "metadata": {},
   "outputs": [],
   "source": [
    "trip_mat = run_gravity_model(zones_gdf)"
   ]
  },
  {
   "cell_type": "code",
   "execution_count": 19,
   "metadata": {},
   "outputs": [
    {
     "name": "stdout",
     "output_type": "stream",
     "text": [
      "8.66289030659238 9.30406022280108\n"
     ]
    }
   ],
   "source": [
    "prod_error = get_prod_error(trip_mat, prod_array)\n",
    "attr_error = get_attr_error(trip_mat, attr_array)\n",
    "print(prod_error, attr_error)"
   ]
  },
  {
   "cell_type": "code",
   "execution_count": 20,
   "metadata": {},
   "outputs": [],
   "source": [
    "np.save(os.path.join(data_dir, \"trip_mat\"), trip_mat)"
   ]
  }
 ],
 "metadata": {
  "kernelspec": {
   "display_name": "osm-to-graph-9sKvQbya-py3.10",
   "language": "python",
   "name": "python3"
  },
  "language_info": {
   "codemirror_mode": {
    "name": "ipython",
    "version": 3
   },
   "file_extension": ".py",
   "mimetype": "text/x-python",
   "name": "python",
   "nbconvert_exporter": "python",
   "pygments_lexer": "ipython3",
   "version": "3.11.3"
  },
  "orig_nbformat": 4
 },
 "nbformat": 4,
 "nbformat_minor": 2
}
