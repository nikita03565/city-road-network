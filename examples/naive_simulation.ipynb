{
 "cells": [
  {
   "cell_type": "code",
   "execution_count": null,
   "metadata": {},
   "outputs": [],
   "source": [
    "import numpy as np\n",
    "import pandas as pd\n",
    "import os\n",
    "import geopandas as gpd\n",
    "from shapely.wkt import loads\n",
    "from city_road_network.utils.utils import get_data_subdir, get_html_subdir\n",
    "import time\n",
    "import pickle\n",
    "from city_road_network.algo.naive_sim import run_naive_simulation\n",
    "from city_road_network.utils.map import draw_trips_map\n",
    "from city_road_network.utils.io import read_graph\n",
    "from city_road_network.config import default_crs"
   ]
  },
  {
   "cell_type": "code",
   "execution_count": null,
   "metadata": {},
   "outputs": [],
   "source": [
    "city_name = \"saint_petersburg\"\n",
    "data_dir = get_data_subdir(city_name)\n",
    "html_dir = get_html_subdir(city_name)"
   ]
  },
  {
   "cell_type": "code",
   "execution_count": null,
   "metadata": {},
   "outputs": [],
   "source": [
    "G = read_graph(os.path.join(data_dir, \"nodelist_upd.csv\"), os.path.join(data_dir, \"edgelist_upd.csv\"))"
   ]
  },
  {
   "cell_type": "code",
   "execution_count": null,
   "metadata": {},
   "outputs": [],
   "source": [
    "trip_mat = np.load(os.path.join(data_dir, \"trip_mat.npy\"))\n",
    "n = trip_mat.shape[0]"
   ]
  },
  {
   "cell_type": "code",
   "execution_count": null,
   "metadata": {},
   "outputs": [],
   "source": [
    "zones_df = pd.read_csv(os.path.join(data_dir, \"zones_upd.csv\"), index_col=0)\n",
    "zones_df[\"geometry\"] = zones_df[\"geometry\"].apply(loads)\n",
    "zones_gdf = gpd.GeoDataFrame(zones_df, crs=default_crs)"
   ]
  },
  {
   "cell_type": "code",
   "execution_count": null,
   "metadata": {},
   "outputs": [],
   "source": [
    "weight = \"length (m)\"\n",
    "# weight = \"flow_time (s)\"\n",
    "all_paths, new_graph = run_naive_simulation(G, trip_mat, weight=weight)\n",
    "for i in range(len(all_paths)):\n",
    "    for j in range(len(all_paths)):\n",
    "        assert len(all_paths[i][j]) == trip_mat[i, j]"
   ]
  },
  {
   "cell_type": "code",
   "execution_count": null,
   "metadata": {},
   "outputs": [],
   "source": [
    "ts = int(time.time())\n",
    "map = draw_trips_map(new_graph)\n",
    "map.save(os.path.join(html_dir, f\"paths_{ts}.html\"))\n",
    "\n",
    "with open(os.path.join(data_dir, f\"paths_by_len_{ts}.pkl\"), \"wb\") as f:\n",
    "    pickle.dump(all_paths, f)"
   ]
  },
  {
   "cell_type": "code",
   "execution_count": null,
   "metadata": {},
   "outputs": [],
   "source": [
    "# weight = \"length (m)\"\n",
    "weight = \"flow_time (s)\"\n",
    "all_paths, new_graph = run_naive_simulation(G, trip_mat, weight=weight)\n",
    "for i in range(len(all_paths)):\n",
    "    for j in range(len(all_paths)):\n",
    "        assert len(all_paths[i][j]) == trip_mat[i, j]"
   ]
  },
  {
   "cell_type": "code",
   "execution_count": null,
   "metadata": {},
   "outputs": [],
   "source": [
    "ts = int(time.time())\n",
    "map = draw_trips_map(new_graph)\n",
    "map.save(os.path.join(html_dir, f\"paths_{ts}.html\"))\n",
    "\n",
    "with open(os.path.join(data_dir, f\"paths_by_time_{ts}.pkl\"), \"wb\") as f:\n",
    "    pickle.dump(all_paths, f)"
   ]
  }
 ],
 "metadata": {
  "kernelspec": {
   "display_name": "osm-to-graph-9sKvQbya-py3.10",
   "language": "python",
   "name": "python3"
  },
  "language_info": {
   "codemirror_mode": {
    "name": "ipython",
    "version": 3
   },
   "file_extension": ".py",
   "mimetype": "text/x-python",
   "name": "python",
   "nbconvert_exporter": "python",
   "pygments_lexer": "ipython3",
   "version": "3.11.3"
  },
  "orig_nbformat": 4
 },
 "nbformat": 4,
 "nbformat_minor": 2
}
