{
 "cells": [
  {
   "cell_type": "code",
   "execution_count": 1,
   "metadata": {},
   "outputs": [
    {
     "name": "stderr",
     "output_type": "stream",
     "text": [
      "c:\\Users\\user\\anaconda3\\envs\\city_road_network_env\\Lib\\site-packages\\osgeo\\osr.py:385: FutureWarning: Neither osr.UseExceptions() nor osr.DontUseExceptions() has been explicitly called. In GDAL 4.0, exceptions will be enabled by default.\n",
      "  warnings.warn(\n"
     ]
    }
   ],
   "source": [
    "from city_road_network.writers.postgres import create_tables, create_graph, create_poi, create_population, create_zones\n",
    "from city_road_network.utils.utils import get_data_subdir\n",
    "import pandas as pd\n",
    "import os"
   ]
  },
  {
   "cell_type": "code",
   "execution_count": 2,
   "metadata": {},
   "outputs": [],
   "source": [
    "city_name = \"paris\"\n",
    "data_dir = get_data_subdir(city_name)\n",
    "nodes_df = pd.read_csv(os.path.join(data_dir, \"nodelist_upd.csv\"), index_col=0)\n",
    "edges_df = pd.read_csv(os.path.join(data_dir, \"edgelist_upd.csv\"), index_col=0)\n",
    "zones_df = pd.read_csv(os.path.join(data_dir, \"zones_upd.csv\"), index_col=0)\n",
    "poi_df = pd.read_csv(os.path.join(data_dir, \"poi_upd.csv\"), index_col=0)\n",
    "pop_df = pd.read_csv(os.path.join(data_dir, \"population.csv\"), index_col=0)"
   ]
  },
  {
   "cell_type": "code",
   "execution_count": 3,
   "metadata": {},
   "outputs": [],
   "source": [
    "create_tables()\n",
    "create_zones(zones_df)\n",
    "create_graph(nodes_df, edges_df, zones_df=zones_df)\n",
    "create_poi(poi_df, zones_df=zones_df)\n",
    "create_population(pop_df)"
   ]
  }
 ],
 "metadata": {
  "kernelspec": {
   "display_name": "city_road_network_env",
   "language": "python",
   "name": "python3"
  },
  "language_info": {
   "codemirror_mode": {
    "name": "ipython",
    "version": 3
   },
   "file_extension": ".py",
   "mimetype": "text/x-python",
   "name": "python",
   "nbconvert_exporter": "python",
   "pygments_lexer": "ipython3",
   "version": "3.11.3"
  },
  "orig_nbformat": 4
 },
 "nbformat": 4,
 "nbformat_minor": 2
}
